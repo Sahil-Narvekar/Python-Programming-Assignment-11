{
 "cells": [
  {
   "cell_type": "code",
   "execution_count": null,
   "metadata": {},
   "outputs": [],
   "source": [
    "1. Write a Python program to find words which are greater than given length k?"
   ]
  },
  {
   "cell_type": "code",
   "execution_count": 2,
   "metadata": {},
   "outputs": [
    {
     "name": "stdout",
     "output_type": "stream",
     "text": [
      "Enter the wordsIneuron is great platform to learn data science\n",
      "Enter the minimum length of the word4\n",
      "['Ineuron', 'great', 'platform', 'learn', 'science']\n"
     ]
    }
   ],
   "source": [
    "a=input('Enter the words ').split()\n",
    "k=int(input('Enter the minimum length of the word'))\n",
    "z=[]\n",
    "for i in a:\n",
    "    if len(i)>k:\n",
    "        z.append(i)\n",
    "print(z,'words greater than length k')\n",
    "        "
   ]
  },
  {
   "cell_type": "code",
   "execution_count": null,
   "metadata": {},
   "outputs": [],
   "source": [
    "2. Write a Python program for removing i-th character from a string?"
   ]
  },
  {
   "cell_type": "code",
   "execution_count": 13,
   "metadata": {},
   "outputs": [
    {
     "name": "stdout",
     "output_type": "stream",
     "text": [
      "Enter the string SahilNArvekar\n",
      "Enter the ith character to be removed 5\n",
      "['S', 'a', 'h', 'i', 'l', 'A', 'r', 'v', 'e', 'k', 'a', 'r'] is string after removing ith character\n"
     ]
    }
   ],
   "source": [
    "a=input('Enter the string ')\n",
    "\n",
    "i=int(input('Enter the ith character to be removed '))\n",
    "b=[s for s in a]\n",
    "\n",
    "b.pop(i)\n",
    "b=str(b)\n",
    "print(b,'is string after removing ith character')"
   ]
  },
  {
   "cell_type": "code",
   "execution_count": null,
   "metadata": {},
   "outputs": [],
   "source": [
    "3. Write a Python program to split and join a string?"
   ]
  },
  {
   "cell_type": "code",
   "execution_count": 23,
   "metadata": {},
   "outputs": [
    {
     "name": "stdout",
     "output_type": "stream",
     "text": [
      "Enter the string Sahil,Narvekar\n",
      "['Sahil', 'Narvekar'] this is split\n",
      "Sahil#Narvekar this is joining string with #\n"
     ]
    }
   ],
   "source": [
    "a=input('Enter the string ')\n",
    "b=a.split(',')\n",
    "print(b,'this is split')\n",
    "s='#'\n",
    "c=s.join(b)\n",
    "print(c,'this is joining string with #')"
   ]
  },
  {
   "cell_type": "code",
   "execution_count": null,
   "metadata": {},
   "outputs": [],
   "source": [
    "4. Write a Python to check if a given string is binary string or not?"
   ]
  },
  {
   "cell_type": "code",
   "execution_count": 73,
   "metadata": {},
   "outputs": [
    {
     "name": "stdout",
     "output_type": "stream",
     "text": [
      "Enter the string 1011001\n",
      "Binary string\n"
     ]
    }
   ],
   "source": [
    "a=input('Enter the string ')\n",
    "a=[str(i) for i in a]\n",
    "\n",
    "for i in range(len(a)):\n",
    "    if a[i] =='0' :\n",
    "        if i==(len(a)-1):\n",
    "            print('Binary string')\n",
    "            break\n",
    "        else:\n",
    "            continue\n",
    "    elif a[i] =='1' :\n",
    "        if i==(len(a)-1):\n",
    "            print('Binary string')\n",
    "            break\n",
    "        else:\n",
    "            continue\n",
    "    else:\n",
    "        print('Not binary')\n",
    "        break"
   ]
  },
  {
   "cell_type": "code",
   "execution_count": null,
   "metadata": {},
   "outputs": [],
   "source": [
    "5. Write a Python program to find uncommon words from two Strings?"
   ]
  },
  {
   "cell_type": "code",
   "execution_count": 88,
   "metadata": {},
   "outputs": [
    {
     "name": "stdout",
     "output_type": "stream",
     "text": [
      "write sentence 1my name is Sahil\n",
      "write sentence 2His name is Sahil Narvekar\n",
      "uncommon words are\n",
      "['His', 'Narvekar']\n"
     ]
    }
   ],
   "source": [
    "a=input('write sentence 1').split()\n",
    "#a=[str(i) for i in a]\n",
    "b=input('write sentence 2').split()\n",
    "#b=[str(i) for i in b]\n",
    "def stringfilter1(b):\n",
    "    if b in a:  \n",
    "        return False\n",
    "    else:\n",
    "        return True\n",
    "uncommonwords=filter(stringfilter1,b)\n",
    "print('uncommon words are')\n",
    "z=[x for x in uncommonwords]\n",
    "print(z)\n",
    "   "
   ]
  },
  {
   "cell_type": "code",
   "execution_count": null,
   "metadata": {},
   "outputs": [],
   "source": [
    "6. Write a Python to find all duplicate characters in string?"
   ]
  },
  {
   "cell_type": "code",
   "execution_count": 93,
   "metadata": {},
   "outputs": [
    {
     "name": "stdout",
     "output_type": "stream",
     "text": [
      "write the stringHeyguyshowareyoudoing\n",
      "repeat characters are {'u', 'e', 'y', 'o', 'g'}\n"
     ]
    }
   ],
   "source": [
    "a=input('write the string')\n",
    "a=[str(i) for i in a]\n",
    "x=[]\n",
    "\n",
    "for i in a:\n",
    "    z=a.count(i)\n",
    "    if z>1:\n",
    "        x.append(i)\n",
    "    else:\n",
    "        continue\n",
    "print('repeat characters are',set(x) )   "
   ]
  },
  {
   "cell_type": "code",
   "execution_count": null,
   "metadata": {},
   "outputs": [],
   "source": [
    "7. Write a Python Program to check if a string contains any special character?"
   ]
  },
  {
   "cell_type": "code",
   "execution_count": 94,
   "metadata": {},
   "outputs": [
    {
     "name": "stdout",
     "output_type": "stream",
     "text": [
      "write the stringdcuhs/efw]ew+ew/(\n",
      "['/', ']', '+', '/', '(']\n"
     ]
    }
   ],
   "source": [
    "a=input('write the string')\n",
    "\n",
    "z=[]\n",
    "a=[str(i) for i in a]\n",
    "for i in a:\n",
    "    if i.isalnum()==False:\n",
    "        z.append(i)\n",
    "print(z)        "
   ]
  },
  {
   "cell_type": "code",
   "execution_count": null,
   "metadata": {},
   "outputs": [],
   "source": []
  }
 ],
 "metadata": {
  "kernelspec": {
   "display_name": "Python 3",
   "language": "python",
   "name": "python3"
  },
  "language_info": {
   "codemirror_mode": {
    "name": "ipython",
    "version": 3
   },
   "file_extension": ".py",
   "mimetype": "text/x-python",
   "name": "python",
   "nbconvert_exporter": "python",
   "pygments_lexer": "ipython3",
   "version": "3.8.3"
  }
 },
 "nbformat": 4,
 "nbformat_minor": 4
}
